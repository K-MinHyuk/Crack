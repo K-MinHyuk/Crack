{
 "cells": [
  {
   "cell_type": "code",
   "execution_count": 2,
   "metadata": {
    "id": "R7Yop9b8rObj",
    "tags": []
   },
   "outputs": [],
   "source": [
    "#Import Library\n",
    "import sys\n",
    "import os\n",
    "import shutil\n",
    "import glob\n",
    "import cv2\n",
    "import numpy as np\n",
    "from tqdm.auto import tqdm\n",
    "import torch\n",
    "from torchvision import datasets, transforms\n",
    "from torch.utils.data.sampler import SubsetRandomSampler\n",
    "from sklearn.model_selection import train_test_split\n",
    "from torchsummary import summary\n",
    "import torch.optim as optim\n",
    "import matplotlib.pyplot as plt\n",
    "import torch.nn as nn\n",
    "import torch.nn.functional as F\n",
    "from PIL import Image"
   ]
  },
  {
   "cell_type": "code",
   "execution_count": 3,
   "metadata": {
    "id": "ChT_OrGRtsVh",
    "tags": []
   },
   "outputs": [],
   "source": [
    "#데이터를 배열로 초기화\n",
    "# data = {}\n",
    "# data['crack'] = []\n",
    "# data['uncrack'] = []"
   ]
  },
  {
   "cell_type": "code",
   "execution_count": 4,
   "metadata": {
    "colab": {
     "base_uri": "https://localhost:8080/"
    },
    "id": "c0MS7hUktsZu",
    "outputId": "07a1c350-a35d-479d-b18b-f5a546e573ff",
    "tags": []
   },
   "outputs": [],
   "source": [
    "#Crack Data\n",
    "# src = 'archive/Positive'\n",
    "# for jpgImage in glob.iglob(os.path.join(src, '*jpg')):\n",
    "#     data['crack'].append(jpgImage)\n",
    "# print(len(data['crack']))"
   ]
  },
  {
   "cell_type": "code",
   "execution_count": 5,
   "metadata": {
    "colab": {
     "base_uri": "https://localhost:8080/"
    },
    "id": "P0ngL-Ujtsby",
    "outputId": "8df797f6-7cf3-4ee9-b671-d9bcf56f0191",
    "tags": []
   },
   "outputs": [],
   "source": [
    "#Uncrack Data\n",
    "# src = 'archive/Negative'\n",
    "# for jpgImage in glob.iglob(os.path.join(src, '*jpg')):\n",
    "#     data['uncrack'].append(jpgImage)\n",
    "# print(len(data['uncrack']))"
   ]
  },
  {
   "cell_type": "code",
   "execution_count": 6,
   "metadata": {
    "id": "TAKBxHt0tsf0",
    "tags": []
   },
   "outputs": [],
   "source": [
    "#Create File\n",
    "# os.mkdir('master_data_concrete')\n",
    "# os.mkdir('master_data_concrete/train')\n",
    "# os.mkdir('master_data_concrete/test')\n",
    "# os.mkdir('master_data_concrete/valid')\n",
    "\n",
    "# os.mkdir('master_data_concrete/train/crack')\n",
    "# os.mkdir('master_data_concrete/train/uncrack')\n",
    "# os.mkdir('master_data_concrete/test/crack')\n",
    "# os.mkdir('master_data_concrete/test/uncrack')\n",
    "# os.mkdir('master_data_concrete/valid/crack')\n",
    "# os.mkdir('master_data_concrete/valid/uncrack')\n"
   ]
  },
  {
   "cell_type": "code",
   "execution_count": 7,
   "metadata": {
    "colab": {
     "base_uri": "https://localhost:8080/"
    },
    "id": "9ryQuaD7LVfM",
    "outputId": "daf62041-4aaa-4a8a-b9a8-7c3f3a0c1a81",
    "tags": []
   },
   "outputs": [],
   "source": [
    "#Data shuffle\n",
    "\n",
    "# X = data['crack'] #Data\n",
    "# Y = np.zeros((len(data['crack']))) #Labels\n",
    "\n",
    "# #train : validation = 60 : 40\n",
    "# X_T, X_test, Y_T, Y_test = train_test_split(X,Y, test_size=0.2)\n",
    "# X_train, X_valid, Y_train, Y_valid = train_test_split(X_T, Y_T, test_size=0.4)\n",
    "# # assert len(X_train) == len(data['crack'])/10*6\n",
    "\n",
    "# #Data Check\n",
    "# print('X_train Data list =',len(X_train), '   X_train Label list =',len(Y_train))\n",
    "# print('X_valid Data list =',len(X_valid), '   X_valid Label list =',len(Y_valid))\n",
    "# print('X_test Data list =',len(X_test), '   X_test Label list =',len(Y_test))"
   ]
  },
  {
   "cell_type": "code",
   "execution_count": 8,
   "metadata": {
    "id": "bHT7yADgtshw",
    "tags": []
   },
   "outputs": [],
   "source": [
    "#image copy\n",
    "\n",
    "# base_dest = 'master_data_concrete'\n",
    "\n",
    "# #copy training  images of crack type\n",
    "# for image in tqdm(X_train):\n",
    "#         dest = os.path.join(base_dest, 'train', 'crack')\n",
    "#         shutil.copy(image, dest)\n",
    "\n",
    "# #copy testing images of crack type\n",
    "# for image in tqdm(X_test):\n",
    "#         dest = os.path.join(base_dest, 'test', 'crack')\n",
    "#         shutil.copy(image, dest)\n",
    "        \n",
    "# for image in tqdm(X_valid):\n",
    "#     dest = os.path.join(base_dest, 'valid', 'crack')\n",
    "#     shutil.copy(image, dest)"
   ]
  },
  {
   "cell_type": "code",
   "execution_count": 9,
   "metadata": {
    "colab": {
     "base_uri": "https://localhost:8080/"
    },
    "id": "BP1LsB7UykUL",
    "outputId": "e9333cde-226b-4220-850c-09638fba59eb",
    "tags": []
   },
   "outputs": [],
   "source": [
    "#Data shuffle\n",
    "# X = data['uncrack'] #Data\n",
    "# Y = np.zeros((len(data['uncrack']))) #Labels\n",
    "\n",
    "# #train : validation = 60 : 40\n",
    "# X_T, X_test, Y_T, Y_test = train_test_split(X,Y, test_size=0.2)\n",
    "# X_train, X_valid, Y_train, Y_valid = train_test_split(X_T, Y_T, test_size=0.4)\n",
    "# # assert len(X_train) == len(data['crack'])/10*6\n",
    "\n",
    "# #Data Check\n",
    "# print('X_train Data list =',len(X_train), '   X_train Label list =',len(Y_train))\n",
    "# print('X_valid Data list =',len(X_valid), '   X_valid Label list =',len(Y_valid))\n",
    "# print('X_test Data list =',len(X_test), '   X_test Label list =',len(Y_test))"
   ]
  },
  {
   "cell_type": "code",
   "execution_count": 10,
   "metadata": {
    "id": "bHT7yADgtshw",
    "tags": []
   },
   "outputs": [],
   "source": [
    "#image copy\n",
    "\n",
    "# base_dest = 'master_data_concrete'\n",
    "\n",
    "# #copy training  images of crack type\n",
    "# for image in tqdm(X_train):\n",
    "#         dest = os.path.join(base_dest, 'train', 'uncrack')\n",
    "#         shutil.copy(image, dest)\n",
    "\n",
    "# #copy testing images of crack type\n",
    "# for image in tqdm(X_test):\n",
    "#         dest = os.path.join(base_dest, 'test', 'uncrack')\n",
    "#         shutil.copy(image, dest)\n",
    "        \n",
    "# for image in tqdm(X_valid):\n",
    "#     dest = os.path.join(base_dest, 'valid', 'uncrack')\n",
    "#     shutil.copy(image, dest)"
   ]
  },
  {
   "cell_type": "code",
   "execution_count": 11,
   "metadata": {},
   "outputs": [],
   "source": [
    "data = 'master_data_concrete'\n",
    "train_transform = transforms.Compose([transforms.Resize(224),\n",
    "                                      transforms.Grayscale(),\n",
    "                                      transforms.RandomHorizontalFlip(),\n",
    "                                      transforms.ToTensor()\n",
    "                                     ])\n",
    "train_dataset = datasets.ImageFolder(data + '/train', transform=train_transform)\n",
    "train_dataloader = torch.utils.data.DataLoader(train_dataset, batch_size=10, shuffle=True)\n",
    "valid_transform = transforms.Compose([transforms.Resize(224),\n",
    "                                      transforms.Grayscale(),\n",
    "                                      transforms.ToTensor()\n",
    "                                     ])\n",
    "valid_dataset = datasets.ImageFolder(data + '/valid', transform=valid_transform)\n",
    "valid_dataloader = torch.utils.data.DataLoader(valid_dataset, batch_size=10, shuffle=True)\n",
    "test_transform = transforms.Compose([transforms.Resize(224),\n",
    "                                      transforms.Grayscale(),\n",
    "                                      transforms.ToTensor(),\n",
    "                                    ])\n",
    "test_dataset = datasets.ImageFolder(data + '/test', transform=test_transform)\n",
    "test_dataloader = torch.utils.data.DataLoader(test_dataset, batch_size=10, shuffle=True)"
   ]
  },
  {
   "cell_type": "code",
   "execution_count": 13,
   "metadata": {},
   "outputs": [
    {
     "name": "stdout",
     "output_type": "stream",
     "text": [
      "Use Cuda!!\n"
     ]
    }
   ],
   "source": [
    "# define the CNN architecture\n",
    "class Net(nn.Module):\n",
    "    def __init__(self):\n",
    "        super(Net, self).__init__()\n",
    "        # convolutional layer (sees 224 x 224 x 1 image tensor)\n",
    "        self.conv1 = nn.Conv2d(1, 16, 3, padding=1)\n",
    "        # convolutional layer (sees 112 x 112 x 16 tensor)\n",
    "        self.conv2 = nn.Conv2d(16, 32, 3, padding=1)\n",
    "        # convolutional layer (sees 56 x 56 x 32 tensor)\n",
    "        self.bn1 = torch.nn.BatchNorm2d(16)\n",
    "        \n",
    "        self.bn2 = torch.nn.BatchNorm2d(32)\n",
    "        \n",
    "        # max pooling layer\n",
    "        self.pool = nn.MaxPool2d(2, 2)\n",
    "        # linear layer (56 * 56 * 32 -> 500)\n",
    "        self.fc1 = nn.Linear(56 * 56 * 32, 500)\n",
    "        # linear layer (500 -> 2)\n",
    "        self.fc2 = nn.Linear(500, 2)\n",
    "        \n",
    "        \n",
    "        # dropout layer (p=0.25)\n",
    "        self.dropout = nn.Dropout(0.25)\n",
    "\n",
    "    def forward(self, x):\n",
    "        # add sequence of convolutional and max pooling layers\n",
    "        x = self.pool(self.bn1(F.relu(self.conv1(x))))\n",
    "        x = self.pool(self.bn2(F.relu(self.conv2(x))))\n",
    "        # flatten image input\n",
    "        x = x.view(-1, 56 * 56 * 32)\n",
    "        # add dropout layer\n",
    "        x = self.dropout(x)\n",
    "        # add 1st hidden layer, with relu activation function\n",
    "        x = F.relu(self.fc1(x))\n",
    "        # add dropout layer\n",
    "        x = self.dropout(x)\n",
    "        # add 2nd hidden layer, with relu activation function\n",
    "        x = F.log_softmax(self.fc2(x),dim=1)\n",
    "        return x\n",
    "\n",
    "# create a complete CNN\n",
    "model = Net()\n",
    "train_on_gpu = torch.cuda.is_available()\n",
    "# move tensors to GPU if CUDA is available\n",
    "if train_on_gpu:\n",
    "    model.cuda()\n",
    "    print(\"Use Cuda!!\")"
   ]
  },
  {
   "cell_type": "code",
   "execution_count": 14,
   "metadata": {},
   "outputs": [
    {
     "name": "stdout",
     "output_type": "stream",
     "text": [
      "----------------------------------------------------------------\n",
      "        Layer (type)               Output Shape         Param #\n",
      "================================================================\n",
      "            Conv2d-1         [-1, 16, 224, 224]             160\n",
      "       BatchNorm2d-2         [-1, 16, 224, 224]              32\n",
      "         MaxPool2d-3         [-1, 16, 112, 112]               0\n",
      "            Conv2d-4         [-1, 32, 112, 112]           4,640\n",
      "       BatchNorm2d-5         [-1, 32, 112, 112]              64\n",
      "         MaxPool2d-6           [-1, 32, 56, 56]               0\n",
      "           Dropout-7               [-1, 100352]               0\n",
      "            Linear-8                  [-1, 500]      50,176,500\n",
      "           Dropout-9                  [-1, 500]               0\n",
      "           Linear-10                    [-1, 2]           1,002\n",
      "================================================================\n",
      "Total params: 50,182,398\n",
      "Trainable params: 50,182,398\n",
      "Non-trainable params: 0\n",
      "----------------------------------------------------------------\n",
      "Input size (MB): 0.19\n",
      "Forward/backward pass size (MB): 21.45\n",
      "Params size (MB): 191.43\n",
      "Estimated Total Size (MB): 213.07\n",
      "----------------------------------------------------------------\n"
     ]
    }
   ],
   "source": [
    "summary(model, (a.shape[1],a.shape[2],a.shape[3]))"
   ]
  },
  {
   "cell_type": "code",
   "execution_count": 15,
   "metadata": {},
   "outputs": [],
   "source": [
    "def train(n_epochs, model, train_loader, train_on_gpu, optimizer, criterion, valid_loader):\n",
    "    valid_loss_min = np.Inf # track change in validation loss\n",
    "    t_loss = []\n",
    "    v_loss = []\n",
    "    for epoch in tqdm(range(1, n_epochs+1), desc='Epoch : '):\n",
    "\n",
    "        # keep track of training and validation loss\n",
    "        train_loss = 0.0\n",
    "        valid_loss = 0.0\n",
    "\n",
    "        ###################\n",
    "        # train the model #\n",
    "        ###################\n",
    "        model.train()\n",
    "        for data, target in tqdm(train_loader, desc='Train : ', leave=False):\n",
    "            # move tensors to GPU if CUDA is available\n",
    "            if train_on_gpu:\n",
    "                data, target = data.cuda(), target.cuda()\n",
    "            # clear the gradients of all optimized variables\n",
    "            optimizer.zero_grad()\n",
    "            # forward pass: compute predicted outputs by passing inputs to the model\n",
    "            output = model(data)\n",
    "            # calculate the batch loss\n",
    "            loss = criterion(output, target)\n",
    "            # backward pass: compute gradient of the loss with respect to model parameters\n",
    "            loss.backward()\n",
    "            # perform a single optimization step (parameter update)\n",
    "            optimizer.step()\n",
    "            # update training loss\n",
    "            train_loss += loss.item()*data.size(0)\n",
    "\n",
    "        ######################    \n",
    "        # validate the model #\n",
    "        ######################\n",
    "        with torch.no_grad():\n",
    "            model.eval()\n",
    "            for data, target in tqdm(valid_loader, desc='Validation : ', leave=False):\n",
    "                # move tensors to GPU if CUDA is available\n",
    "                if train_on_gpu:\n",
    "                    data, target = data.cuda(), target.cuda()\n",
    "                # forward pass: compute predicted outputs by passing inputs to the model\n",
    "                output = model(data)\n",
    "                # calculate the batch loss\n",
    "                loss = criterion(output, target)\n",
    "                # update average validation loss \n",
    "                valid_loss += loss.item()*data.size(0)\n",
    "\n",
    "        # calculate average losses\n",
    "        train_loss = train_loss/len(train_loader.sampler)\n",
    "        valid_loss = valid_loss/len(valid_loader.sampler)\n",
    "        t_loss.append(train_loss)\n",
    "        v_loss.append(valid_loss)\n",
    "        # print training/validation statistics \n",
    "        print('Epoch: {} \\tTraining Loss: {:.6f} \\tValidation Loss: {:.6f}'.format(\n",
    "            epoch, train_loss, valid_loss))\n",
    "\n",
    "        # save model if validation loss has decreased\n",
    "        if valid_loss <= valid_loss_min:\n",
    "            print('Validation loss decreased ({:.6f} --> {:.6f}).  Saving model ...'.format(\n",
    "            valid_loss_min,\n",
    "            valid_loss))\n",
    "            torch.save(model.state_dict(), 'model_cifar.pt')\n",
    "            valid_loss_min = valid_loss\n",
    "    return t_loss, v_loss, model"
   ]
  },
  {
   "cell_type": "code",
   "execution_count": 15,
   "metadata": {},
   "outputs": [
    {
     "data": {
      "application/vnd.jupyter.widget-view+json": {
       "model_id": "094ceebc54634f5181a7288dc4452201",
       "version_major": 2,
       "version_minor": 0
      },
      "text/plain": [
       "Epoch :   0%|          | 0/10 [00:00<?, ?it/s]"
      ]
     },
     "metadata": {},
     "output_type": "display_data"
    },
    {
     "data": {
      "application/vnd.jupyter.widget-view+json": {
       "model_id": "",
       "version_major": 2,
       "version_minor": 0
      },
      "text/plain": [
       "Train :   0%|          | 0/1920 [00:00<?, ?it/s]"
      ]
     },
     "metadata": {},
     "output_type": "display_data"
    },
    {
     "data": {
      "application/vnd.jupyter.widget-view+json": {
       "model_id": "",
       "version_major": 2,
       "version_minor": 0
      },
      "text/plain": [
       "Validation :   0%|          | 0/1280 [00:00<?, ?it/s]"
      ]
     },
     "metadata": {},
     "output_type": "display_data"
    },
    {
     "name": "stdout",
     "output_type": "stream",
     "text": [
      "Epoch: 1 \tTraining Loss: 0.125394 \tValidation Loss: 0.086225\n",
      "Validation loss decreased (inf --> 0.086225).  Saving model ...\n"
     ]
    },
    {
     "data": {
      "application/vnd.jupyter.widget-view+json": {
       "model_id": "",
       "version_major": 2,
       "version_minor": 0
      },
      "text/plain": [
       "Train :   0%|          | 0/1920 [00:00<?, ?it/s]"
      ]
     },
     "metadata": {},
     "output_type": "display_data"
    },
    {
     "data": {
      "application/vnd.jupyter.widget-view+json": {
       "model_id": "",
       "version_major": 2,
       "version_minor": 0
      },
      "text/plain": [
       "Validation :   0%|          | 0/1280 [00:00<?, ?it/s]"
      ]
     },
     "metadata": {},
     "output_type": "display_data"
    },
    {
     "name": "stdout",
     "output_type": "stream",
     "text": [
      "Epoch: 2 \tTraining Loss: 0.037321 \tValidation Loss: 0.028606\n",
      "Validation loss decreased (0.086225 --> 0.028606).  Saving model ...\n"
     ]
    },
    {
     "data": {
      "application/vnd.jupyter.widget-view+json": {
       "model_id": "",
       "version_major": 2,
       "version_minor": 0
      },
      "text/plain": [
       "Train :   0%|          | 0/1920 [00:00<?, ?it/s]"
      ]
     },
     "metadata": {},
     "output_type": "display_data"
    },
    {
     "data": {
      "application/vnd.jupyter.widget-view+json": {
       "model_id": "",
       "version_major": 2,
       "version_minor": 0
      },
      "text/plain": [
       "Validation :   0%|          | 0/1280 [00:00<?, ?it/s]"
      ]
     },
     "metadata": {},
     "output_type": "display_data"
    },
    {
     "name": "stdout",
     "output_type": "stream",
     "text": [
      "Epoch: 3 \tTraining Loss: 0.022927 \tValidation Loss: 0.033721\n"
     ]
    },
    {
     "data": {
      "application/vnd.jupyter.widget-view+json": {
       "model_id": "",
       "version_major": 2,
       "version_minor": 0
      },
      "text/plain": [
       "Train :   0%|          | 0/1920 [00:00<?, ?it/s]"
      ]
     },
     "metadata": {},
     "output_type": "display_data"
    },
    {
     "data": {
      "application/vnd.jupyter.widget-view+json": {
       "model_id": "",
       "version_major": 2,
       "version_minor": 0
      },
      "text/plain": [
       "Validation :   0%|          | 0/1280 [00:00<?, ?it/s]"
      ]
     },
     "metadata": {},
     "output_type": "display_data"
    },
    {
     "name": "stdout",
     "output_type": "stream",
     "text": [
      "Epoch: 4 \tTraining Loss: 0.031639 \tValidation Loss: 0.019940\n",
      "Validation loss decreased (0.028606 --> 0.019940).  Saving model ...\n"
     ]
    },
    {
     "data": {
      "application/vnd.jupyter.widget-view+json": {
       "model_id": "",
       "version_major": 2,
       "version_minor": 0
      },
      "text/plain": [
       "Train :   0%|          | 0/1920 [00:00<?, ?it/s]"
      ]
     },
     "metadata": {},
     "output_type": "display_data"
    },
    {
     "data": {
      "application/vnd.jupyter.widget-view+json": {
       "model_id": "",
       "version_major": 2,
       "version_minor": 0
      },
      "text/plain": [
       "Validation :   0%|          | 0/1280 [00:00<?, ?it/s]"
      ]
     },
     "metadata": {},
     "output_type": "display_data"
    },
    {
     "name": "stdout",
     "output_type": "stream",
     "text": [
      "Epoch: 5 \tTraining Loss: 0.009349 \tValidation Loss: 0.022403\n"
     ]
    },
    {
     "data": {
      "application/vnd.jupyter.widget-view+json": {
       "model_id": "",
       "version_major": 2,
       "version_minor": 0
      },
      "text/plain": [
       "Train :   0%|          | 0/1920 [00:00<?, ?it/s]"
      ]
     },
     "metadata": {},
     "output_type": "display_data"
    },
    {
     "data": {
      "application/vnd.jupyter.widget-view+json": {
       "model_id": "",
       "version_major": 2,
       "version_minor": 0
      },
      "text/plain": [
       "Validation :   0%|          | 0/1280 [00:00<?, ?it/s]"
      ]
     },
     "metadata": {},
     "output_type": "display_data"
    },
    {
     "name": "stdout",
     "output_type": "stream",
     "text": [
      "Epoch: 6 \tTraining Loss: 0.010009 \tValidation Loss: 0.027890\n"
     ]
    },
    {
     "data": {
      "application/vnd.jupyter.widget-view+json": {
       "model_id": "",
       "version_major": 2,
       "version_minor": 0
      },
      "text/plain": [
       "Train :   0%|          | 0/1920 [00:00<?, ?it/s]"
      ]
     },
     "metadata": {},
     "output_type": "display_data"
    },
    {
     "data": {
      "application/vnd.jupyter.widget-view+json": {
       "model_id": "",
       "version_major": 2,
       "version_minor": 0
      },
      "text/plain": [
       "Validation :   0%|          | 0/1280 [00:00<?, ?it/s]"
      ]
     },
     "metadata": {},
     "output_type": "display_data"
    },
    {
     "name": "stdout",
     "output_type": "stream",
     "text": [
      "Epoch: 7 \tTraining Loss: 0.012028 \tValidation Loss: 0.030653\n"
     ]
    },
    {
     "data": {
      "application/vnd.jupyter.widget-view+json": {
       "model_id": "",
       "version_major": 2,
       "version_minor": 0
      },
      "text/plain": [
       "Train :   0%|          | 0/1920 [00:00<?, ?it/s]"
      ]
     },
     "metadata": {},
     "output_type": "display_data"
    },
    {
     "data": {
      "application/vnd.jupyter.widget-view+json": {
       "model_id": "",
       "version_major": 2,
       "version_minor": 0
      },
      "text/plain": [
       "Validation :   0%|          | 0/1280 [00:00<?, ?it/s]"
      ]
     },
     "metadata": {},
     "output_type": "display_data"
    },
    {
     "name": "stdout",
     "output_type": "stream",
     "text": [
      "Epoch: 8 \tTraining Loss: 0.009176 \tValidation Loss: 0.024736\n"
     ]
    },
    {
     "data": {
      "application/vnd.jupyter.widget-view+json": {
       "model_id": "",
       "version_major": 2,
       "version_minor": 0
      },
      "text/plain": [
       "Train :   0%|          | 0/1920 [00:00<?, ?it/s]"
      ]
     },
     "metadata": {},
     "output_type": "display_data"
    },
    {
     "data": {
      "application/vnd.jupyter.widget-view+json": {
       "model_id": "",
       "version_major": 2,
       "version_minor": 0
      },
      "text/plain": [
       "Validation :   0%|          | 0/1280 [00:00<?, ?it/s]"
      ]
     },
     "metadata": {},
     "output_type": "display_data"
    },
    {
     "name": "stdout",
     "output_type": "stream",
     "text": [
      "Epoch: 9 \tTraining Loss: 0.005109 \tValidation Loss: 0.045065\n"
     ]
    },
    {
     "data": {
      "application/vnd.jupyter.widget-view+json": {
       "model_id": "",
       "version_major": 2,
       "version_minor": 0
      },
      "text/plain": [
       "Train :   0%|          | 0/1920 [00:00<?, ?it/s]"
      ]
     },
     "metadata": {},
     "output_type": "display_data"
    },
    {
     "data": {
      "application/vnd.jupyter.widget-view+json": {
       "model_id": "",
       "version_major": 2,
       "version_minor": 0
      },
      "text/plain": [
       "Validation :   0%|          | 0/1280 [00:00<?, ?it/s]"
      ]
     },
     "metadata": {},
     "output_type": "display_data"
    },
    {
     "name": "stdout",
     "output_type": "stream",
     "text": [
      "Epoch: 10 \tTraining Loss: 0.005340 \tValidation Loss: 0.025708\n"
     ]
    }
   ],
   "source": [
    "n_epochs = 10\n",
    "train_loader = train_dataloader\n",
    "train_on_gpu = torch.cuda.is_available()\n",
    "optimizer = optim.SGD(model.parameters(), lr=0.01)\n",
    "criterion = nn.NLLLoss()\n",
    "valid_loader = valid_dataloader\n",
    "train_loss, valid_loss, model = train(n_epochs, model, train_loader, train_on_gpu, optimizer, criterion, valid_loader)"
   ]
  },
  {
   "cell_type": "code",
   "execution_count": 16,
   "metadata": {},
   "outputs": [
    {
     "data": {
      "text/plain": [
       "[<matplotlib.lines.Line2D at 0x232a1e35ac0>]"
      ]
     },
     "execution_count": 16,
     "metadata": {},
     "output_type": "execute_result"
    },
    {
     "data": {
      "image/png": "[encoded data removed]",
      "text/plain": [
       "<Figure size 432x288 with 1 Axes>"
      ]
     },
     "metadata": {
      "needs_background": "light"
     },
     "output_type": "display_data"
    }
   ],
   "source": [
    "plt.plot(train_loss)\n",
    "plt.plot(valid_loss)"
   ]
  },
  {
   "cell_type": "code",
   "execution_count": 16,
   "metadata": {},
   "outputs": [
    {
     "data": {
      "text/plain": [
       "<All keys matched successfully>"
      ]
     },
     "execution_count": 16,
     "metadata": {},
     "output_type": "execute_result"
    }
   ],
   "source": [
    "model.load_state_dict(torch.load('model_cifar.pt'))"
   ]
  },
  {
   "cell_type": "code",
   "execution_count": 17,
   "metadata": {},
   "outputs": [],
   "source": [
    "def test(batch_size, model, test_dataloader, train_on_gpu, criterion, classes):\n",
    "    test_loss = 0.0\n",
    "    class_correct = list(0. for i in range(10))\n",
    "    class_total = list(0. for i in range(10))\n",
    "\n",
    "    model.eval()\n",
    "    # iterate over test data\n",
    "    for data, target in tqdm(test_dataloader):\n",
    "        # move tensors to GPU if CUDA is available\n",
    "        if train_on_gpu:\n",
    "            data, target = data.cuda(), target.cuda()\n",
    "        # forward pass: compute predicted outputs by passing inputs to the model\n",
    "        output = model(data)\n",
    "        # calculate the batch loss\n",
    "        loss = criterion(output, target)\n",
    "        # update test loss \n",
    "        test_loss += loss.item()*data.size(0)\n",
    "        # convert output probabilities to predicted class\n",
    "        _, pred = torch.max(output, 1)    \n",
    "        # compare predictions to true label\n",
    "        correct_tensor = pred.eq(target.data.view_as(pred))\n",
    "        correct = np.squeeze(correct_tensor.numpy()) if not train_on_gpu else np.squeeze(correct_tensor.cpu().numpy())\n",
    "        # calculate test accuracy for each object class\n",
    "        for i in range(batch_size):\n",
    "            label = target.data[i]\n",
    "            class_correct[label] += correct[i].item()\n",
    "            class_total[label] += 1\n",
    "\n",
    "    # average test loss\n",
    "    test_loss = test_loss/len(test_dataloader.dataset)\n",
    "    print('Test Loss: {:.6f}\\n'.format(test_loss))\n",
    "\n",
    "    for i in range(len(classes)):\n",
    "        if class_total[i] > 0:\n",
    "            print('Test Accuracy of %5s: %2d%% (%2d/%2d)' % (\n",
    "                classes[i], 100 * class_correct[i] / class_total[i],\n",
    "                np.sum(class_correct[i]), np.sum(class_total[i])))\n",
    "        else:\n",
    "            print('Test Accuracy of %5s: N/A (no training examples)' % (classes[i]))\n",
    "\n",
    "    print('\\nTest Accuracy (Overall): %2d%% (%2d/%2d)' % (\n",
    "        100. * np.sum(class_correct) / np.sum(class_total),\n",
    "        np.sum(class_correct), np.sum(class_total)))"
   ]
  },
  {
   "cell_type": "markdown",
   "metadata": {},
   "source": [
    "# Test"
   ]
  },
  {
   "cell_type": "code",
   "execution_count": 19,
   "metadata": {},
   "outputs": [
    {
     "data": {
      "application/vnd.jupyter.widget-view+json": {
       "model_id": "3b72b051f42e47b5970055ef30455438",
       "version_major": 2,
       "version_minor": 0
      },
      "text/plain": [
       "  0%|          | 0/800 [00:00<?, ?it/s]"
      ]
     },
     "metadata": {},
     "output_type": "display_data"
    },
    {
     "name": "stdout",
     "output_type": "stream",
     "text": [
      "Test Loss: 0.013554\n",
      "\n",
      "Test Accuracy of Crack: 99% (3973/4000)\n",
      "Test Accuracy of Uncrack: 99% (3990/4000)\n",
      "\n",
      "Test Accuracy (Overall): 99% (7963/8000)\n"
     ]
    }
   ],
   "source": [
    "train_on_gpu = torch.cuda.is_available()\n",
    "optimizer = optim.SGD(model.parameters(), lr=0.01)\n",
    "criterion = nn.NLLLoss()\n",
    "batch_size = 10\n",
    "classes = ['Crack', 'Uncrack']\n",
    "test(batch_size, model, test_dataloader, train_on_gpu, criterion, classes)"
   ]
  }
 ],
 "metadata": {
  "colab": {
   "collapsed_sections": [],
   "name": "CustomModel624.ipynb",
   "provenance": []
  },
  "kernelspec": {
   "display_name": "pytorch",
   "language": "python",
   "name": "pytorch"
  },
  "language_info": {
   "codemirror_mode": {
    "name": "ipython",
    "version": 3
   },
   "file_extension": ".py",
   "mimetype": "text/x-python",
   "name": "python",
   "nbconvert_exporter": "python",
   "pygments_lexer": "ipython3",
   "version": "3.8.5"
  }
 },
 "nbformat": 4,
 "nbformat_minor": 4
}
